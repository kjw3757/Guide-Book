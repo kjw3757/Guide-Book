{
  "nbformat": 4,
  "nbformat_minor": 0,
  "metadata": {
    "colab": {
      "provenance": [],
      "include_colab_link": true
    },
    "kernelspec": {
      "name": "python3",
      "display_name": "Python 3"
    },
    "language_info": {
      "name": "python"
    }
  },
  "cells": [
    {
      "cell_type": "markdown",
      "metadata": {
        "id": "view-in-github",
        "colab_type": "text"
      },
      "source": [
        "<a href=\"https://colab.research.google.com/github/kjw3757/Guide-Book/blob/main/bard%EB%A5%BC_%EC%9D%B4%EC%9A%A9%ED%95%9C_%EC%B1%85_%EB%82%9C%EC%9D%B4%EB%8F%84.ipynb\" target=\"_parent\"><img src=\"https://colab.research.google.com/assets/colab-badge.svg\" alt=\"Open In Colab\"/></a>"
      ]
    },
    {
      "cell_type": "markdown",
      "source": [
        "# Welcome to Python Package BardAPI tutorial"
      ],
      "metadata": {
        "id": "gU9J5HUp7PfW"
      }
    },
    {
      "cell_type": "markdown",
      "source": [
        "## Install"
      ],
      "metadata": {
        "id": "nxhT0jzT7SAA"
      }
    },
    {
      "cell_type": "code",
      "source": [
        "!pip install bardapi>=0.1.8\n",
        "!pip install transformers"
      ],
      "metadata": {
        "id": "pXMmgTjyR39B",
        "colab": {
          "base_uri": "https://localhost:8080/"
        },
        "outputId": "c3af9e5c-44b6-444e-d7c3-e408a7aa4d3b"
      },
      "execution_count": null,
      "outputs": [
        {
          "output_type": "stream",
          "name": "stdout",
          "text": [
            "Looking in indexes: https://pypi.org/simple, https://us-python.pkg.dev/colab-wheels/public/simple/\n",
            "Collecting transformers\n",
            "  Downloading transformers-4.29.2-py3-none-any.whl (7.1 MB)\n",
            "\u001b[2K     \u001b[90m━━━━━━━━━━━━━━━━━━━━━━━━━━━━━━━━━━━━━━━━\u001b[0m \u001b[32m7.1/7.1 MB\u001b[0m \u001b[31m32.5 MB/s\u001b[0m eta \u001b[36m0:00:00\u001b[0m\n",
            "\u001b[?25hRequirement already satisfied: filelock in /usr/local/lib/python3.10/dist-packages (from transformers) (3.12.0)\n",
            "Collecting huggingface-hub<1.0,>=0.14.1 (from transformers)\n",
            "  Downloading huggingface_hub-0.15.1-py3-none-any.whl (236 kB)\n",
            "\u001b[2K     \u001b[90m━━━━━━━━━━━━━━━━━━━━━━━━━━━━━━━━━━━━━━\u001b[0m \u001b[32m236.8/236.8 kB\u001b[0m \u001b[31m25.5 MB/s\u001b[0m eta \u001b[36m0:00:00\u001b[0m\n",
            "\u001b[?25hRequirement already satisfied: numpy>=1.17 in /usr/local/lib/python3.10/dist-packages (from transformers) (1.22.4)\n",
            "Requirement already satisfied: packaging>=20.0 in /usr/local/lib/python3.10/dist-packages (from transformers) (23.1)\n",
            "Requirement already satisfied: pyyaml>=5.1 in /usr/local/lib/python3.10/dist-packages (from transformers) (6.0)\n",
            "Requirement already satisfied: regex!=2019.12.17 in /usr/local/lib/python3.10/dist-packages (from transformers) (2022.10.31)\n",
            "Requirement already satisfied: requests in /usr/local/lib/python3.10/dist-packages (from transformers) (2.27.1)\n",
            "Collecting tokenizers!=0.11.3,<0.14,>=0.11.1 (from transformers)\n",
            "  Downloading tokenizers-0.13.3-cp310-cp310-manylinux_2_17_x86_64.manylinux2014_x86_64.whl (7.8 MB)\n",
            "\u001b[2K     \u001b[90m━━━━━━━━━━━━━━━━━━━━━━━━━━━━━━━━━━━━━━━━\u001b[0m \u001b[32m7.8/7.8 MB\u001b[0m \u001b[31m59.0 MB/s\u001b[0m eta \u001b[36m0:00:00\u001b[0m\n",
            "\u001b[?25hRequirement already satisfied: tqdm>=4.27 in /usr/local/lib/python3.10/dist-packages (from transformers) (4.65.0)\n",
            "Requirement already satisfied: fsspec in /usr/local/lib/python3.10/dist-packages (from huggingface-hub<1.0,>=0.14.1->transformers) (2023.4.0)\n",
            "Requirement already satisfied: typing-extensions>=3.7.4.3 in /usr/local/lib/python3.10/dist-packages (from huggingface-hub<1.0,>=0.14.1->transformers) (4.5.0)\n",
            "Requirement already satisfied: urllib3<1.27,>=1.21.1 in /usr/local/lib/python3.10/dist-packages (from requests->transformers) (1.26.15)\n",
            "Requirement already satisfied: certifi>=2017.4.17 in /usr/local/lib/python3.10/dist-packages (from requests->transformers) (2022.12.7)\n",
            "Requirement already satisfied: charset-normalizer~=2.0.0 in /usr/local/lib/python3.10/dist-packages (from requests->transformers) (2.0.12)\n",
            "Requirement already satisfied: idna<4,>=2.5 in /usr/local/lib/python3.10/dist-packages (from requests->transformers) (3.4)\n",
            "Installing collected packages: tokenizers, huggingface-hub, transformers\n",
            "Successfully installed huggingface-hub-0.15.1 tokenizers-0.13.3 transformers-4.29.2\n"
          ]
        }
      ]
    },
    {
      "cell_type": "markdown",
      "source": [
        "## **BARD 이용해서 엑셀 돌리기**"
      ],
      "metadata": {
        "id": "rBSv-wvdkPdy"
      }
    },
    {
      "cell_type": "code",
      "source": [
        "import os\n",
        "import bardapi\n",
        "import openpyxl\n",
        "import pandas as pd\n",
        "from transformers import AutoModelForSequenceClassification, AutoTokenizer\n",
        "from bardapi import Bard\n",
        "\n",
        "token='XAhVqxRYtzCF-CC0DElTeLBtCtqQeLdhiTRIGJmdqt2hqFWfBFK2TSs1AkbYfUCAMPdTGA.'\n"
      ],
      "metadata": {
        "id": "AtX5KghQkMLX"
      },
      "execution_count": null,
      "outputs": []
    },
    {
      "cell_type": "code",
      "source": [
        "# 엑셀 파일 로딩\n",
        "workbook = openpyxl.load_workbook(\"/content/book_data_hana_test (2).xlsx\")\n",
        "sheet = workbook.active# 필요한 열 추출\n",
        "data = pd.DataFrame(sheet.values)\n",
        "\n",
        "book_data = data.iloc[1:, [0, 1, 2, 3]]\n",
        "book_data.columns = [\"title\", \"author\", \"category\", \"publisher\"]"
      ],
      "metadata": {
        "id": "jMAJVni4dJ71"
      },
      "execution_count": null,
      "outputs": []
    },
    {
      "cell_type": "code",
      "source": [
        "def get_book_difficulty(title, author, category, publisher):\n",
        "    if title is None or author is None or category is None or publisher is None:\n",
        "        return \"Not available\"\n",
        "\n",
        "    # Set up the book information for the prompt\n",
        "    book_info = f\"Book: {title} by {author}, Category: {category}, Publisher: {publisher}\"\n",
        "    prompt_with_book_info = (\n",
        "        \"This Excel file contains the following information: Title of the book, Publisher, Author, Category.\\n\"\n",
        "        f\"Read each row from this Excel file and use the information to determine what kind of book it is and assign a difficulty rating from 1 to 5. \"\n",
        "        f\"The rating should be determined by considering various factors such as the length of the book, complexity of the content, language level, and subject matter. \\n\"\n",
        "        f\"For each book, output the title, author and the difficulty rating, and summarize the reason why you determine the difficulty like that.\\n\"\n",
        "        + book_info\n",
        "    )\n",
        "\n",
        "    # Generate text from the Bard API\n",
        "    response = bardapi.core.Bard(token).get_answer(prompt_with_book_info)\n",
        "\n",
        "    # Extract the difficulty rating from the generated text\n",
        "    difficulty = response['content'].strip()\n",
        "\n",
        "    return difficulty\n"
      ],
      "metadata": {
        "id": "khE67mJbdNva"
      },
      "execution_count": null,
      "outputs": []
    },
    {
      "cell_type": "code",
      "source": [
        "# 새로운 엑셀 파일 생성\n",
        "new_workbook = openpyxl.Workbook()\n",
        "new_sheet = new_workbook.active\n",
        "new_sheet.append([\"Title\", \"Author\", \"Category\", \"Publisher\", \"Difficulty\", \"Content\"])\n"
      ],
      "metadata": {
        "id": "__PyIZYJdQbQ"
      },
      "execution_count": null,
      "outputs": []
    },
    {
      "cell_type": "markdown",
      "source": [
        "# **책 소개**"
      ],
      "metadata": {
        "id": "055tA0Vr952N"
      }
    },
    {
      "cell_type": "code",
      "source": [
        "def get_book_content(title, author, category, publisher):\n",
        "    if title is None or author is None or category is None or publisher is None:\n",
        "        return \"Not available\"\n",
        "\n",
        "    # Set up the book information for the prompt\n",
        "    book_info = f\"Book: {title} by {author}, Category: {category}, Publisher: {publisher}\"\n",
        "    prompt_with_book_info = (\n",
        "       \"This Excel file contains the following information: book titles, publishers, authors, categories.\\n\"\n",
        "        f\"Please read each line from this excel file and use the information to explain the contents and outline of each book using English.\"\n",
        "        + book_info\n",
        "    )\n",
        "\n",
        "    # Generate text from the Bard API\n",
        "    response = bardapi.core.Bard(token).get_answer(prompt_with_book_info)\n",
        "\n",
        "    # Extract the difficulty rating from the generated text\n",
        "    overview = response['content'].strip()\n",
        "\n",
        "    return overview"
      ],
      "metadata": {
        "id": "cs2X5qSR98q_"
      },
      "execution_count": null,
      "outputs": []
    },
    {
      "cell_type": "code",
      "source": [
        "# 모든 책에 대해 개요 출력\n",
        "for i, row in book_data.iterrows():\n",
        "    title, author, category, publisher = row[\"title\"], row[\"author\"], row[\"category\"], row[\"publisher\"]\n",
        "    difficulty = get_book_difficulty(title, author, category, publisher)\n",
        "    content = get_book_content(title, author, category, publisher)\n",
        "    new_sheet.append([title, author, publisher , category, difficulty, content])"
      ],
      "metadata": {
        "id": "DiUecam3_BLQ"
      },
      "execution_count": null,
      "outputs": []
    },
    {
      "cell_type": "markdown",
      "source": [
        "# **엑셀 저장**"
      ],
      "metadata": {
        "id": "XnTlJnuO9_jJ"
      }
    },
    {
      "cell_type": "code",
      "source": [
        "# 새로운 엑셀 파일 저장\n",
        "new_workbook.save(\"test-with-difficulty.xlsx\")"
      ],
      "metadata": {
        "id": "gtd5lrpcdWx3"
      },
      "execution_count": null,
      "outputs": []
    },
    {
      "cell_type": "markdown",
      "source": [
        "# 난이도 추출"
      ],
      "metadata": {
        "id": "Qr08EvtkFO_N"
      }
    },
    {
      "cell_type": "code",
      "source": [
        "# 엑셀 파일 경로 설정\n",
        "excel_file_path = \"/content/test-with-difficulty.xlsx\"\n",
        "\n",
        "# 엑셀 파일 읽기\n",
        "df = pd.read_excel(excel_file_path)\n",
        "\n",
        "# Difficulty 열의 값을 수정\n",
        "df['Difficulty'] = df['Difficulty'].str.extract(r'Difficulty rating: (\\d+)', expand=False)\n",
        "\n",
        "# 수정된 데이터프레임을 새로운 엑셀 파일로 저장\n",
        "output_file_path = \"test_bard_result.xlsx\"\n",
        "df.to_excel(output_file_path, index=False)"
      ],
      "metadata": {
        "id": "9lw-6IYxFOya"
      },
      "execution_count": null,
      "outputs": []
    }
  ]
}