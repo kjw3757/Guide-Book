{
  "nbformat": 4,
  "nbformat_minor": 0,
  "metadata": {
    "colab": {
      "provenance": [],
      "authorship_tag": "ABX9TyOlHlbB6HiNrSn4HnrJe2KF",
      "include_colab_link": true
    },
    "kernelspec": {
      "name": "python3",
      "display_name": "Python 3"
    },
    "language_info": {
      "name": "python"
    }
  },
  "cells": [
    {
      "cell_type": "markdown",
      "metadata": {
        "id": "view-in-github",
        "colab_type": "text"
      },
      "source": [
        "<a href=\"https://colab.research.google.com/github/kjw3757/Guide-Book/blob/main/Recommendation_algorithm.ipynb\" target=\"_parent\"><img src=\"https://colab.research.google.com/assets/colab-badge.svg\" alt=\"Open In Colab\"/></a>"
      ]
    },
    {
      "cell_type": "code",
      "execution_count": null,
      "metadata": {
        "id": "dekx_cdc3Z4O"
      },
      "outputs": [],
      "source": [
        "import pandas as pd \n",
        "import numpy as np \n",
        "\n",
        "df=pd.read_csv('/content/test-with-difficulty-last.csv')\n"
      ]
    },
    {
      "cell_type": "code",
      "source": [
        "df.drop(df.columns[6:26], axis=1, inplace=True)\n",
        "df_new = df[['Title', 'Author', 'Category', 'Publisher', 'Difficulty', 'Content']].copy()\n",
        "df_new.columns = ['Title', 'Author', 'Category', 'Publisher', 'Difficulty', 'Content']\n"
      ],
      "metadata": {
        "id": "rSe9F_WC1v0Y"
      },
      "execution_count": null,
      "outputs": []
    },
    {
      "cell_type": "code",
      "source": [
        "df.head(5)"
      ],
      "metadata": {
        "colab": {
          "base_uri": "https://localhost:8080/",
          "height": 320
        },
        "id": "R0u6PetE2d_T",
        "outputId": "6aac3d3f-51f7-4063-a508-d12d73409944"
      },
      "execution_count": null,
      "outputs": [
        {
          "output_type": "execute_result",
          "data": {
            "text/plain": [
              "              Title   Author Category Publisher  \\\n",
              "0   오만과 편견 (한글+영문판)   제인 오스틴       고전      더클래식   \n",
              "1              코스모스    칼 세이건       과학     사이언스북   \n",
              "2         생각에 관한 생각  대니얼 카너먼     경제경영       김영사   \n",
              "3  100가지 동물로 읽는 세계사   사이먼 반즈       역사      현대지성   \n",
              "4      1984 (한글+영문)    조지 오웰       소설      더클래식   \n",
              "\n",
              "                                          Difficulty  \\\n",
              "0  ## Book: 오만과 편견 (한글+영문판) by 제인 오스틴\\n\\n### Diff...   \n",
              "1                                                NaN   \n",
              "2  Here is the output for the book \"생각에 관한 생각\" by...   \n",
              "3  Sure, I can help you with that. Here is the in...   \n",
              "4  Sure, I can help you with that. Here is the di...   \n",
              "\n",
              "                                             Content  \n",
              "0  **Pride and Prejudice (Korean and English Edit...  \n",
              "1                                                NaN  \n",
              "2  Sure, I can do that. Here is the information a...  \n",
              "3  Sure, I can do that. Here is the information f...  \n",
              "4  Sure, here is the information about the book 1...  "
            ],
            "text/html": [
              "\n",
              "  <div id=\"df-9019ccb7-3a49-47f3-86df-904f75087a38\">\n",
              "    <div class=\"colab-df-container\">\n",
              "      <div>\n",
              "<style scoped>\n",
              "    .dataframe tbody tr th:only-of-type {\n",
              "        vertical-align: middle;\n",
              "    }\n",
              "\n",
              "    .dataframe tbody tr th {\n",
              "        vertical-align: top;\n",
              "    }\n",
              "\n",
              "    .dataframe thead th {\n",
              "        text-align: right;\n",
              "    }\n",
              "</style>\n",
              "<table border=\"1\" class=\"dataframe\">\n",
              "  <thead>\n",
              "    <tr style=\"text-align: right;\">\n",
              "      <th></th>\n",
              "      <th>Title</th>\n",
              "      <th>Author</th>\n",
              "      <th>Category</th>\n",
              "      <th>Publisher</th>\n",
              "      <th>Difficulty</th>\n",
              "      <th>Content</th>\n",
              "    </tr>\n",
              "  </thead>\n",
              "  <tbody>\n",
              "    <tr>\n",
              "      <th>0</th>\n",
              "      <td>오만과 편견 (한글+영문판)</td>\n",
              "      <td>제인 오스틴</td>\n",
              "      <td>고전</td>\n",
              "      <td>더클래식</td>\n",
              "      <td>## Book: 오만과 편견 (한글+영문판) by 제인 오스틴\\n\\n### Diff...</td>\n",
              "      <td>**Pride and Prejudice (Korean and English Edit...</td>\n",
              "    </tr>\n",
              "    <tr>\n",
              "      <th>1</th>\n",
              "      <td>코스모스</td>\n",
              "      <td>칼 세이건</td>\n",
              "      <td>과학</td>\n",
              "      <td>사이언스북</td>\n",
              "      <td>NaN</td>\n",
              "      <td>NaN</td>\n",
              "    </tr>\n",
              "    <tr>\n",
              "      <th>2</th>\n",
              "      <td>생각에 관한 생각</td>\n",
              "      <td>대니얼 카너먼</td>\n",
              "      <td>경제경영</td>\n",
              "      <td>김영사</td>\n",
              "      <td>Here is the output for the book \"생각에 관한 생각\" by...</td>\n",
              "      <td>Sure, I can do that. Here is the information a...</td>\n",
              "    </tr>\n",
              "    <tr>\n",
              "      <th>3</th>\n",
              "      <td>100가지 동물로 읽는 세계사</td>\n",
              "      <td>사이먼 반즈</td>\n",
              "      <td>역사</td>\n",
              "      <td>현대지성</td>\n",
              "      <td>Sure, I can help you with that. Here is the in...</td>\n",
              "      <td>Sure, I can do that. Here is the information f...</td>\n",
              "    </tr>\n",
              "    <tr>\n",
              "      <th>4</th>\n",
              "      <td>1984 (한글+영문)</td>\n",
              "      <td>조지 오웰</td>\n",
              "      <td>소설</td>\n",
              "      <td>더클래식</td>\n",
              "      <td>Sure, I can help you with that. Here is the di...</td>\n",
              "      <td>Sure, here is the information about the book 1...</td>\n",
              "    </tr>\n",
              "  </tbody>\n",
              "</table>\n",
              "</div>\n",
              "      <button class=\"colab-df-convert\" onclick=\"convertToInteractive('df-9019ccb7-3a49-47f3-86df-904f75087a38')\"\n",
              "              title=\"Convert this dataframe to an interactive table.\"\n",
              "              style=\"display:none;\">\n",
              "        \n",
              "  <svg xmlns=\"http://www.w3.org/2000/svg\" height=\"24px\"viewBox=\"0 0 24 24\"\n",
              "       width=\"24px\">\n",
              "    <path d=\"M0 0h24v24H0V0z\" fill=\"none\"/>\n",
              "    <path d=\"M18.56 5.44l.94 2.06.94-2.06 2.06-.94-2.06-.94-.94-2.06-.94 2.06-2.06.94zm-11 1L8.5 8.5l.94-2.06 2.06-.94-2.06-.94L8.5 2.5l-.94 2.06-2.06.94zm10 10l.94 2.06.94-2.06 2.06-.94-2.06-.94-.94-2.06-.94 2.06-2.06.94z\"/><path d=\"M17.41 7.96l-1.37-1.37c-.4-.4-.92-.59-1.43-.59-.52 0-1.04.2-1.43.59L10.3 9.45l-7.72 7.72c-.78.78-.78 2.05 0 2.83L4 21.41c.39.39.9.59 1.41.59.51 0 1.02-.2 1.41-.59l7.78-7.78 2.81-2.81c.8-.78.8-2.07 0-2.86zM5.41 20L4 18.59l7.72-7.72 1.47 1.35L5.41 20z\"/>\n",
              "  </svg>\n",
              "      </button>\n",
              "      \n",
              "  <style>\n",
              "    .colab-df-container {\n",
              "      display:flex;\n",
              "      flex-wrap:wrap;\n",
              "      gap: 12px;\n",
              "    }\n",
              "\n",
              "    .colab-df-convert {\n",
              "      background-color: #E8F0FE;\n",
              "      border: none;\n",
              "      border-radius: 50%;\n",
              "      cursor: pointer;\n",
              "      display: none;\n",
              "      fill: #1967D2;\n",
              "      height: 32px;\n",
              "      padding: 0 0 0 0;\n",
              "      width: 32px;\n",
              "    }\n",
              "\n",
              "    .colab-df-convert:hover {\n",
              "      background-color: #E2EBFA;\n",
              "      box-shadow: 0px 1px 2px rgba(60, 64, 67, 0.3), 0px 1px 3px 1px rgba(60, 64, 67, 0.15);\n",
              "      fill: #174EA6;\n",
              "    }\n",
              "\n",
              "    [theme=dark] .colab-df-convert {\n",
              "      background-color: #3B4455;\n",
              "      fill: #D2E3FC;\n",
              "    }\n",
              "\n",
              "    [theme=dark] .colab-df-convert:hover {\n",
              "      background-color: #434B5C;\n",
              "      box-shadow: 0px 1px 3px 1px rgba(0, 0, 0, 0.15);\n",
              "      filter: drop-shadow(0px 1px 2px rgba(0, 0, 0, 0.3));\n",
              "      fill: #FFFFFF;\n",
              "    }\n",
              "  </style>\n",
              "\n",
              "      <script>\n",
              "        const buttonEl =\n",
              "          document.querySelector('#df-9019ccb7-3a49-47f3-86df-904f75087a38 button.colab-df-convert');\n",
              "        buttonEl.style.display =\n",
              "          google.colab.kernel.accessAllowed ? 'block' : 'none';\n",
              "\n",
              "        async function convertToInteractive(key) {\n",
              "          const element = document.querySelector('#df-9019ccb7-3a49-47f3-86df-904f75087a38');\n",
              "          const dataTable =\n",
              "            await google.colab.kernel.invokeFunction('convertToInteractive',\n",
              "                                                     [key], {});\n",
              "          if (!dataTable) return;\n",
              "\n",
              "          const docLinkHtml = 'Like what you see? Visit the ' +\n",
              "            '<a target=\"_blank\" href=https://colab.research.google.com/notebooks/data_table.ipynb>data table notebook</a>'\n",
              "            + ' to learn more about interactive tables.';\n",
              "          element.innerHTML = '';\n",
              "          dataTable['output_type'] = 'display_data';\n",
              "          await google.colab.output.renderOutput(dataTable, element);\n",
              "          const docLink = document.createElement('div');\n",
              "          docLink.innerHTML = docLinkHtml;\n",
              "          element.appendChild(docLink);\n",
              "        }\n",
              "      </script>\n",
              "    </div>\n",
              "  </div>\n",
              "  "
            ]
          },
          "metadata": {},
          "execution_count": 3
        }
      ]
    },
    {
      "cell_type": "markdown",
      "source": [
        "Plot description based Recommender"
      ],
      "metadata": {
        "id": "RCKlCPsxrHig"
      }
    },
    {
      "cell_type": "code",
      "source": [
        "from sklearn.feature_extraction.text import TfidfVectorizer\n",
        "\n",
        "# TF-IDF Vectorizer 객체를 정의 'the', 'a'와 같은 영어 불용어를 제거\n",
        "tfidf = TfidfVectorizer(stop_words='english')\n",
        "\n",
        "# NaN 값을 빈 문자열로 대체\n",
        "df['Content'] = df['Content'].fillna('')\n",
        "\n",
        "# 데이터를 fitting하고 변환하여 필요한 TF-IDF 행렬을 생성\n",
        "tfidf_matrix = tfidf.fit_transform(df['Content'])\n",
        "\n",
        "# tfidf_matrix의 형태(shape)를 출력\n",
        "tfidf_matrix.shape"
      ],
      "metadata": {
        "colab": {
          "base_uri": "https://localhost:8080/"
        },
        "id": "HPJuMDnI4Ak-",
        "outputId": "43b786f7-b50b-42e7-e8c1-3a177d1d03b2"
      },
      "execution_count": null,
      "outputs": [
        {
          "output_type": "execute_result",
          "data": {
            "text/plain": [
              "(46, 2154)"
            ]
          },
          "metadata": {},
          "execution_count": 4
        }
      ]
    },
    {
      "cell_type": "code",
      "source": [
        "from sklearn.metrics.pairwise import linear_kernel\n",
        "\n",
        "# 코사인유사도 함수 생성\n",
        "cosine_sim = linear_kernel(tfidf_matrix, tfidf_matrix)"
      ],
      "metadata": {
        "id": "sWKgEP-042BZ"
      },
      "execution_count": null,
      "outputs": []
    },
    {
      "cell_type": "code",
      "source": [
        "# 인덱스와 책 제목의 역 매핑을 생성\n",
        "indices = pd.Series(df.index, index=df['Title']).drop_duplicates()"
      ],
      "metadata": {
        "id": "cxTkogLU449J"
      },
      "execution_count": null,
      "outputs": []
    },
    {
      "cell_type": "code",
      "source": [
        "# 책 제목을 입력으로 받아 가장 유사한 책을 출력하는 함수를 정의\n",
        "def get_recommendations(title, cosine_sim=cosine_sim):\n",
        "    \n",
        "    idx = indices[title]\n",
        "\n",
        "    # 해당 책과 다른 책들 간의 유사도 점수를 가져오기\n",
        "    sim_scores = list(enumerate(cosine_sim[idx]))\n",
        "\n",
        "    # 유사도 점수를 기준으로 책들을 정렬\n",
        "    sim_scores = sorted(sim_scores, key=lambda x: x[1], reverse=True)\n",
        "\n",
        "    # 상위 10개의 유사한 책의 점수를 가져오기\n",
        "    sim_scores = sim_scores[1:11]\n",
        "\n",
        "    # 책의 인덱스를 가져오기\n",
        "    book_indices = [i[0] for i in sim_scores]\n",
        "\n",
        "    # 상위 10개의 유사한 책 반환\n",
        "    return df['Title'].iloc[book_indices]"
      ],
      "metadata": {
        "id": "pKl11QGI4-X7"
      },
      "execution_count": null,
      "outputs": []
    },
    {
      "cell_type": "code",
      "source": [
        "get_recommendations('성냥팔이 소녀')"
      ],
      "metadata": {
        "colab": {
          "base_uri": "https://localhost:8080/"
        },
        "id": "WFeSZZPe5NEJ",
        "outputId": "8edeef8a-918a-4ad3-a9e7-382f3f188484"
      },
      "execution_count": null,
      "outputs": [
        {
          "output_type": "execute_result",
          "data": {
            "text/plain": [
              "44               인어공주\n",
              "31              어린 왕자\n",
              "21           수레바퀴 아래서\n",
              "12            이상 - 날개\n",
              "26         이토록 평범한 미래\n",
              "10             오만과 편견\n",
              "39          아홉살 마음 사전\n",
              "37    괴롭히려고 한 건 아니야! \n",
              "7              언어의 무게\n",
              "19              우주의 집\n",
              "Name: Title, dtype: object"
            ]
          },
          "metadata": {},
          "execution_count": 11
        }
      ]
    },
    {
      "cell_type": "code",
      "source": [],
      "metadata": {
        "id": "WyMAfHFl74ni"
      },
      "execution_count": null,
      "outputs": []
    },
    {
      "cell_type": "markdown",
      "source": [
        "Difficulty and GenresBased Recommender"
      ],
      "metadata": {
        "id": "R8V4lJOj74_K"
      }
    },
    {
      "cell_type": "code",
      "source": [
        "# Parse the stringified features into their corresponding python objects\n",
        "from ast import literal_eval\n",
        "\n",
        "features = ['Content']\n",
        "for feature in features:\n",
        "    df[feature] = df[feature].apply(literal_eval)"
      ],
      "metadata": {
        "colab": {
          "base_uri": "https://localhost:8080/",
          "height": 616
        },
        "id": "jCwiJ4-575oY",
        "outputId": "3fdbb813-8c22-4704-f6ab-66d9c4e1b0ee"
      },
      "execution_count": null,
      "outputs": [
        {
          "output_type": "error",
          "ename": "SyntaxError",
          "evalue": "ignored",
          "traceback": [
            "Traceback \u001b[0;36m(most recent call last)\u001b[0m:\n",
            "  File \u001b[1;32m\"/usr/local/lib/python3.10/dist-packages/IPython/core/interactiveshell.py\"\u001b[0m, line \u001b[1;32m3553\u001b[0m, in \u001b[1;35mrun_code\u001b[0m\n    exec(code_obj, self.user_global_ns, self.user_ns)\n",
            "  File \u001b[1;32m\"<ipython-input-14-9bebd6d90943>\"\u001b[0m, line \u001b[1;32m6\u001b[0m, in \u001b[1;35m<cell line: 5>\u001b[0m\n    df[feature] = df[feature].apply(literal_eval)\n",
            "  File \u001b[1;32m\"/usr/local/lib/python3.10/dist-packages/pandas/core/series.py\"\u001b[0m, line \u001b[1;32m4771\u001b[0m, in \u001b[1;35mapply\u001b[0m\n    return SeriesApply(self, func, convert_dtype, args, kwargs).apply()\n",
            "  File \u001b[1;32m\"/usr/local/lib/python3.10/dist-packages/pandas/core/apply.py\"\u001b[0m, line \u001b[1;32m1123\u001b[0m, in \u001b[1;35mapply\u001b[0m\n    return self.apply_standard()\n",
            "  File \u001b[1;32m\"/usr/local/lib/python3.10/dist-packages/pandas/core/apply.py\"\u001b[0m, line \u001b[1;32m1174\u001b[0m, in \u001b[1;35mapply_standard\u001b[0m\n    mapped = lib.map_infer(\n",
            "  File \u001b[1;32m\"pandas/_libs/lib.pyx\"\u001b[0m, line \u001b[1;32m2924\u001b[0m, in \u001b[1;35mpandas._libs.lib.map_infer\u001b[0m\n",
            "  File \u001b[1;32m\"/usr/lib/python3.10/ast.py\"\u001b[0m, line \u001b[1;32m64\u001b[0m, in \u001b[1;35mliteral_eval\u001b[0m\n    node_or_string = parse(node_or_string.lstrip(\" \\t\"), mode='eval')\n",
            "\u001b[0;36m  File \u001b[0;32m\"/usr/lib/python3.10/ast.py\"\u001b[0;36m, line \u001b[0;32m50\u001b[0;36m, in \u001b[0;35mparse\u001b[0;36m\u001b[0m\n\u001b[0;31m    return compile(source, filename, mode, flags,\u001b[0m\n",
            "\u001b[0;36m  File \u001b[0;32m\"<unknown>\"\u001b[0;36m, line \u001b[0;32m15\u001b[0m\n\u001b[0;31m    One day, Mr. Bingley, a wealthy bachelor, rents Netherfield Park, a large estate near the Bennets' home. Mr. Bingley is immediately taken with Jane, the eldest Bennet daughter, and his friend Mr. Darcy is taken with Elizabeth, the second-eldest Bennet daughter. However, Mr. Darcy is proud and aloof, and Elizabeth is prejudiced against him.\u001b[0m\n\u001b[0m                                                                                                     ^\u001b[0m\n\u001b[0;31mSyntaxError\u001b[0m\u001b[0;31m:\u001b[0m unterminated string literal (detected at line 15)\n"
          ]
        }
      ]
    },
    {
      "cell_type": "code",
      "source": [
        "# Get the director's name from the crew feature. If director is not listed, return NaN\n",
        "def get_author(x):\n",
        "    for i in x:\n",
        "        if i['job'] == 'Author':\n",
        "            return i['name']\n",
        "    return np.nan"
      ],
      "metadata": {
        "id": "8D5iEixO8yWb"
      },
      "execution_count": null,
      "outputs": []
    },
    {
      "cell_type": "code",
      "source": [
        "# Returns the list top 3 elements or entire list; whichever is more.\n",
        "def get_list(x):\n",
        "    if isinstance(x, list):\n",
        "        names = [i['name'] for i in x]\n",
        "        #Check if more than 3 elements exist. If yes, return only first three. If no, return entire list.\n",
        "        if len(names) > 3:\n",
        "            names = names[:3]\n",
        "        return names\n",
        "\n",
        "    #Return empty list in case of missing/malformed data\n",
        "    return []"
      ],
      "metadata": {
        "id": "D7VL8jfn87YM"
      },
      "execution_count": null,
      "outputs": []
    },
    {
      "cell_type": "code",
      "source": [
        "# Define new director, cast, genres and keywords features that are in a suitable form.\n",
        "df['Author'] = df['crew'].apply(get_author)\n",
        "\n",
        "features = ['Category']\n",
        "for feature in features:\n",
        "    df[feature] = df[feature].apply(get_list)"
      ],
      "metadata": {
        "id": "ShAmydou8_tK"
      },
      "execution_count": null,
      "outputs": []
    },
    {
      "cell_type": "code",
      "source": [
        "# Print the new features of the first 3 films\n",
        "df[['Title', 'Author', 'Publisher', 'Category']].head(3)"
      ],
      "metadata": {
        "id": "0ivCycKv89tY"
      },
      "execution_count": null,
      "outputs": []
    },
    {
      "cell_type": "code",
      "source": [
        "from ast import literal_eval\n",
        "from sklearn.metrics.pairwise import cosine_similarity\n",
        "\n",
        "def recommend_books(file_path, category, difficulty):\n",
        "    # 엑셀 파일 읽기\n",
        "    df = pd.read_excel(file_path)\n",
        "    \n",
        "    # literal_eval을 사용하여 열 데이터 변환\n",
        "    df['Category'] = df['Category'].apply(literal_eval)\n",
        "    df['Difficulty'] = df['Difficulty'].apply(literal_eval)\n",
        "    \n",
        "    # 입력된 카테고리와 난이도에 해당하는 책 필터링\n",
        "    filtered_books = df[(df['Category'] == category) & (df['Difficulty'] == difficulty)]\n",
        "    \n",
        "    # TF-IDF 벡터화\n",
        "    vectorizer = TfidfVectorizer()\n",
        "    book_vectors = vectorizer.fit_transform(filtered_books['Content'])\n",
        "    \n",
        "    # 코사인 유사도 계산\n",
        "    similarity_matrix = cosine_similarity(book_vectors)\n",
        "    \n",
        "    # 입력된 책과 유사도가 가장 높은 책 추출\n",
        "    book_index = similarity_matrix[0].argsort()[-2:-12:-1]  # 자기 자신은 제외하고 상위 10개 추출\n",
        "    recommended_books = filtered_books.iloc[book_index]\n",
        "    \n",
        "    return recommended_books\n",
        "\n",
        "# 추천 알고리즘 테스트\n",
        "file_path = 'books.xlsx'\n",
        "category = 'Mystery'\n",
        "difficulty = 'Intermediate'\n",
        "recommended_books = recommend_books(file_path, category, difficulty)\n",
        "print(recommended_books[['Title', 'Author', 'Publisher']])"
      ],
      "metadata": {
        "id": "RJYedtPIwzuG"
      },
      "execution_count": null,
      "outputs": []
    }
  ]
}